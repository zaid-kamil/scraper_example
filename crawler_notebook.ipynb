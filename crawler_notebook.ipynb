{
 "cells": [
  {
   "cell_type": "code",
   "execution_count": 1,
   "metadata": {
    "collapsed": true,
    "slideshow": {
     "slide_type": "slide"
    }
   },
   "outputs": [],
   "source": [
    "import requests\n",
    "from bs4 import BeautifulSoup\n",
    "import pandas\n",
    "import numpy \n",
    "\n",
    "# webpage for crawler\n",
    "start_url = \"https://stackoverflow.com\""
   ]
  },
  {
   "cell_type": "code",
   "execution_count": 2,
   "metadata": {
    "collapsed": true,
    "slideshow": {
     "slide_type": "slide"
    }
   },
   "outputs": [],
   "source": [
    "# load data from a webpage and return a soup object \n",
    "def get_soup_from_url(url):\n",
    "    print('loading...')\n",
    "    web_page = requests.get(url)        \n",
    "    if web_page.status_code == 200:\n",
    "        # convert page data into an BeautifulSoup object\n",
    "        # which allows us to use easy methods to find item\n",
    "        soup = BeautifulSoup(web_page.text,'lxml') \n",
    "        print('loaded page ' + soup.title.text) \n",
    "        return soup\n",
    "    else:\n",
    "        print(\"web page data could not be extracted\" + str(web_page.status_code))"
   ]
  },
  {
   "cell_type": "code",
   "execution_count": 3,
   "metadata": {
    "collapsed": true,
    "slideshow": {
     "slide_type": "slide"
    }
   },
   "outputs": [],
   "source": [
    "# function for getting page links\n",
    "def get_links_in_soup(soup):\n",
    "    page_links = [] # an empty python list\n",
    "    # find all tag with <a href=\"link...\">content</a> syntax\n",
    "    links = soup.find_all('a')\n",
    "    #loop through the link to get only href value from list\n",
    "    for anchor_tag in links: \n",
    "        if anchor_tag.has_attr('href'): # check if the <a> tag has href attribute\n",
    "            href = anchor_tag['href']\n",
    "            page_links.append(href)\n",
    "    return page_links    #align the return to the for loop"
   ]
  },
  {
   "cell_type": "code",
   "execution_count": 4,
   "metadata": {
    "collapsed": true,
    "slideshow": {
     "slide_type": "slide"
    }
   },
   "outputs": [],
   "source": [
    "# function that fetches the list of tag that has been passed\n",
    "def get_tag_on_page(soup,html_tag):\n",
    "    tags = soup.find_all(html_tag) # find all tag \n",
    "    total_tags = len(tags)   # get length of tags variable\n",
    "    print('found {} tags {} --->'.format(html_tag,total_tags))  # (.)dot before format\n",
    "    for tag in tags: # for a tag inside tags \n",
    "        if tag.text: # if tag has text \n",
    "            print(tag.text)"
   ]
  },
  {
   "cell_type": "code",
   "execution_count": 5,
   "metadata": {
    "collapsed": true,
    "slideshow": {
     "slide_type": "slide"
    }
   },
   "outputs": [],
   "source": [
    "# final implementation\n",
    "def crawl_page(url):\n",
    "    print(\"crawling \"+url)      \n",
    "    soup =get_soup_from_url(url)\n",
    "    if soup:                         # if soup contains valid html data\n",
    "        all_links = get_links_in_soup(soup)\n",
    "        get_tag_on_page(soup,'h3')\n",
    "        print('collected {} links'.format(len(all_links)))\n",
    "        return all_links"
   ]
  },
  {
   "cell_type": "code",
   "execution_count": 6,
   "metadata": {
    "slideshow": {
     "slide_type": "slide"
    }
   },
   "outputs": [
    {
     "name": "stdout",
     "output_type": "stream",
     "text": [
      "crawling https://stackoverflow.com\n",
      "loading...\n",
      "loaded page Stack Overflow - Where Developers Learn, Share, & Build Careers\n",
      "found h3 tags 99 --->\n",
      "current community\n",
      "\n",
      "\n",
      "your communities            \n",
      "more stack exchange communities\n",
      "\n",
      "How to access custom folder (Package) in root directory Laravel 5.4\n",
      "Need to traverse the SO Lines - and check with Customized Fields\n",
      "Not able to start weblogic server in eclipse juno, showing input line is too long error\n",
      "Is the android bundle class immutable and safe to reuse in firebase analytics?\n",
      "How to call Redux store changes in single component?\n",
      "After converting dictionary values to excel the first cell values/names are missing\n",
      "TSP with time window constraint on few nodes\n",
      "Point deduction once target is reached?\n",
      "Double dash in Centos vs OSx shebang\n",
      "C++ binding callbacks to a class\n",
      "SQLite - Check for an empty column and retrieve column name\n",
      "MySQL UNION ALL gives unwanted value with lead lag\n",
      "watir a string value is depriciated Ruby\n",
      "Sharepoint Powershell Online - Delete items by date\n",
      "Exporting multiple charts as individual pdf files through loop - VBA\n",
      "Broken autoimport in Visual Studio Code\n",
      "replace NULL value with an empty string Vue\n",
      "segmentation fault when trying to copy integers from .txt file\n",
      "firebase database set method appending to array instead of replacing the elements\n",
      "How to add key value pair in combo box visual c++\n",
      "d3.mouse not working properly on transformed SVG\n",
      "TryReceive method on IMessageReceiver interface\n",
      "set sequence number for group of data\n",
      "ImportError: No module named multipart\n",
      "How to register op for Tensorflow in windows\n",
      "Remove First images from feed content\n",
      "SQL Stored Proc called from .NET Forms Application\n",
      "Summing of lookups in other data.table too slow\n",
      "Testing callable cloud functions in firebase:shell\n",
      "How to check if user already taken the exam in php\n",
      "Symfony 4 : The file was found but the class was not in it\n",
      "App State: undefined and endless waiting tests\n",
      "How to work with multiple spinners using URLs?\n",
      "Running a script from user input in flask\n",
      "bigquery extract epoch from date\n",
      "System.Runtime.CompilerServices.Unsafe while running .Net Standard project in Xamarin\n",
      "Sending C# Reserved Word as Property of PostData Api\n",
      "Download stopped working in jquery-1.9.1.min.js?\n",
      "Merging/ Extending Typescript React-Native interfaces\n",
      "Storing and retrieving Gujarati Characters in Python\n",
      "Error while using [System.Nullable[String]] as type for function parameter\n",
      "Python 3, I have a class that has a function that returns a number. But python won't support instances of the number when comparing\n",
      "Transaction from ethereum wallet can't be found etherscan.io\n",
      "Angular 5 - synchronous loop with asynchronous data\n",
      "Unison; mirror directories with sftp upload user\n",
      "Dynamically add columns to TreeTable in PrimeNG\n",
      "Multiproject build with same task name across projects: Could not find method customtask() for arguments[build_] on project\n",
      "Writing subqueries in orientDB\n",
      "Azure AD Authentication through Python Web API\n",
      "How to get a Flux of a property on top-level JSON object from WebClient\n",
      "Blue Prism Orchestration\n",
      "Show helperText in materail-ui-v1 on input focus only\n",
      "Change AWS Lambda Kinesis stream polling frequecy\n",
      "find the exact element clicked in three js whith raycaster and intersects when small parts are closely coupled together to form a complex model\n",
      "how to select all date using Materializecss datepicker?\n",
      "Error : Please fix the version conflict?\n",
      "How can I read property file in background task created by @Schedule?\n",
      "How to validate the pyspark.ml model in parallelization\n",
      "Check if choosen file exists in database using checksum\n",
      "How to solve error in beamer_presentation, file does not exist?\n",
      "How Do I Cache APT Packages In Bitbucket Pipelines?\n",
      "failure to redirect my results to another template in a flask application\n",
      "Mongodb - aggregation $push if conditional\n",
      "How to enable chown commands via Hadoop NFS Gateway\n",
      "fetch Latest version of android application running in playstore to ask for update\n",
      "Set value of a column to NA based on conditions in R\n",
      "Elasticsearch / Kibana - Wrong time values\n",
      "How to impliment assertion on total avg value of each script rather than each thread in JMeter?\n",
      "How to draw on QGraphicsView from QMainWindow\n",
      "How to increase weight of a word for CountVectorizer\n",
      "Can we do a groupby on one column in spark using pyspark and get list of values of other columns (raw values without an aggregation)\n",
      "Pycronofy timezone id not being set correctly\n",
      "Geofire is returning duplicate object keys from Firebase?\n",
      "DialogFlow reset contexts\n",
      "iptables to allow only first udp packet and drop remaining all udp packets for next 10 seconds\n",
      "boto3 installation failure with python 3\n",
      "the permissions are inherited or added explicitly in powershell\n",
      "Shopify: How to delete database entry fast after uninstall web-hook response, so the merchant uninstall and re-install quickly?\n",
      "How to add customer attribute in magento 2\n",
      "Add certificate from Azure Key Vault to Azure App Service via REST API\n",
      "Structure of SKPictureRecorder\n",
      "How to set proxy on DelogeConsole\n",
      "iOS, PWA, Azure AD Authentication\n",
      "syslog-ng replacing double quotation with single quotation in MESSAGE\n",
      "Is it possible to drag an item outside of RecyclerView?\n",
      "Why does logging an empty string variable in edge return an object\n",
      "csv file Japanese characters got junk while I download in windows system\n",
      "Create CSR in Secure Enclave on macOS with Swift 4\n",
      "i want to convert my gridview table into pdf\n",
      "Not receiving data in header in google calendar webhook/push_notification request\n",
      "Replacement of Method has_key in Python3\n",
      "UWP authenticode signed appxbundle shows unknown publisher with smartscreen\n",
      "In SSMS Running SQL which doesn't return rows with go between statements gives an error\n",
      "histogram calculation for rotation invariant local binary pattern in opencv c++\n",
      "Is there a way to call RStudio's code format programmatically?\n",
      "netlogo-headless.sh does not run on SSH instance on Google cloud\n",
      "collected 738 links\n"
     ]
    }
   ],
   "source": [
    "# finally lets use all the above things\n",
    "pagelinks = crawl_page(start_url) #crawls other pages from here"
   ]
  },
  {
   "cell_type": "code",
   "execution_count": 7,
   "metadata": {},
   "outputs": [
    {
     "data": {
      "text/html": [
       "<div>\n",
       "<style scoped>\n",
       "    .dataframe tbody tr th:only-of-type {\n",
       "        vertical-align: middle;\n",
       "    }\n",
       "\n",
       "    .dataframe tbody tr th {\n",
       "        vertical-align: top;\n",
       "    }\n",
       "\n",
       "    .dataframe thead th {\n",
       "        text-align: right;\n",
       "    }\n",
       "</style>\n",
       "<table border=\"1\" class=\"dataframe\">\n",
       "  <thead>\n",
       "    <tr style=\"text-align: right;\">\n",
       "      <th></th>\n",
       "      <th>links</th>\n",
       "    </tr>\n",
       "  </thead>\n",
       "  <tbody>\n",
       "    <tr>\n",
       "      <th>0</th>\n",
       "      <td>https://stackoverflow.com</td>\n",
       "    </tr>\n",
       "    <tr>\n",
       "      <th>1</th>\n",
       "      <td>/questions</td>\n",
       "    </tr>\n",
       "    <tr>\n",
       "      <th>2</th>\n",
       "      <td>/jobs?med=site-ui&amp;ref=jobs-tab</td>\n",
       "    </tr>\n",
       "    <tr>\n",
       "      <th>3</th>\n",
       "      <td>/tags</td>\n",
       "    </tr>\n",
       "    <tr>\n",
       "      <th>4</th>\n",
       "      <td>/users</td>\n",
       "    </tr>\n",
       "    <tr>\n",
       "      <th>5</th>\n",
       "      <td>https://stackoverflow.com</td>\n",
       "    </tr>\n",
       "    <tr>\n",
       "      <th>6</th>\n",
       "      <td>https://stackoverflow.com/help</td>\n",
       "    </tr>\n",
       "    <tr>\n",
       "      <th>7</th>\n",
       "      <td>https://chat.stackoverflow.com</td>\n",
       "    </tr>\n",
       "    <tr>\n",
       "      <th>8</th>\n",
       "      <td>https://stackoverflow.com</td>\n",
       "    </tr>\n",
       "    <tr>\n",
       "      <th>9</th>\n",
       "      <td>https://meta.stackoverflow.com</td>\n",
       "    </tr>\n",
       "    <tr>\n",
       "      <th>10</th>\n",
       "      <td>https://stackoverflow.com/users/signup?ssrc=si...</td>\n",
       "    </tr>\n",
       "    <tr>\n",
       "      <th>11</th>\n",
       "      <td>https://stackoverflow.com/users/login?ssrc=sit...</td>\n",
       "    </tr>\n",
       "    <tr>\n",
       "      <th>12</th>\n",
       "      <td>https://stackexchange.com/sites</td>\n",
       "    </tr>\n",
       "    <tr>\n",
       "      <th>13</th>\n",
       "      <td>https://stackoverflow.blog</td>\n",
       "    </tr>\n",
       "    <tr>\n",
       "      <th>14</th>\n",
       "      <td>/tour</td>\n",
       "    </tr>\n",
       "    <tr>\n",
       "      <th>15</th>\n",
       "      <td>/help</td>\n",
       "    </tr>\n",
       "    <tr>\n",
       "      <th>16</th>\n",
       "      <td>https://meta.stackoverflow.com</td>\n",
       "    </tr>\n",
       "    <tr>\n",
       "      <th>17</th>\n",
       "      <td>https://stackoverflow.com/company/about</td>\n",
       "    </tr>\n",
       "    <tr>\n",
       "      <th>18</th>\n",
       "      <td>https://www.stackoverflowbusiness.com/?ref=top...</td>\n",
       "    </tr>\n",
       "    <tr>\n",
       "      <th>19</th>\n",
       "      <td>https://stackexchange.com/users/?tab=inbox</td>\n",
       "    </tr>\n",
       "    <tr>\n",
       "      <th>20</th>\n",
       "      <td>https://stackexchange.com/users/?tab=reputation</td>\n",
       "    </tr>\n",
       "    <tr>\n",
       "      <th>21</th>\n",
       "      <td>#</td>\n",
       "    </tr>\n",
       "    <tr>\n",
       "      <th>22</th>\n",
       "      <td>https://stackexchange.com</td>\n",
       "    </tr>\n",
       "    <tr>\n",
       "      <th>23</th>\n",
       "      <td>https://stackoverflow.com/users/login?ssrc=hea...</td>\n",
       "    </tr>\n",
       "    <tr>\n",
       "      <th>24</th>\n",
       "      <td>https://stackoverflow.com/users/signup?ssrc=he...</td>\n",
       "    </tr>\n",
       "    <tr>\n",
       "      <th>25</th>\n",
       "      <td>https://stackexchange.com/legal/privacy-policy</td>\n",
       "    </tr>\n",
       "    <tr>\n",
       "      <th>26</th>\n",
       "      <td>https://stackexchange.com/legal/terms-of-service</td>\n",
       "    </tr>\n",
       "    <tr>\n",
       "      <th>27</th>\n",
       "      <td>https://www.stackoverflowbusiness.com/?utm_sou...</td>\n",
       "    </tr>\n",
       "    <tr>\n",
       "      <th>28</th>\n",
       "      <td>?tab=interesting</td>\n",
       "    </tr>\n",
       "    <tr>\n",
       "      <th>29</th>\n",
       "      <td>?tab=featured</td>\n",
       "    </tr>\n",
       "    <tr>\n",
       "      <th>...</th>\n",
       "      <td>...</td>\n",
       "    </tr>\n",
       "    <tr>\n",
       "      <th>708</th>\n",
       "      <td>https://ell.stackexchange.com</td>\n",
       "    </tr>\n",
       "    <tr>\n",
       "      <th>709</th>\n",
       "      <td>https://japanese.stackexchange.com</td>\n",
       "    </tr>\n",
       "    <tr>\n",
       "      <th>710</th>\n",
       "      <td>https://gaming.stackexchange.com</td>\n",
       "    </tr>\n",
       "    <tr>\n",
       "      <th>711</th>\n",
       "      <td>https://bicycles.stackexchange.com</td>\n",
       "    </tr>\n",
       "    <tr>\n",
       "      <th>712</th>\n",
       "      <td>https://rpg.stackexchange.com</td>\n",
       "    </tr>\n",
       "    <tr>\n",
       "      <th>713</th>\n",
       "      <td>https://anime.stackexchange.com</td>\n",
       "    </tr>\n",
       "    <tr>\n",
       "      <th>714</th>\n",
       "      <td>https://puzzling.stackexchange.com</td>\n",
       "    </tr>\n",
       "    <tr>\n",
       "      <th>715</th>\n",
       "      <td>https://mechanics.stackexchange.com</td>\n",
       "    </tr>\n",
       "    <tr>\n",
       "      <th>716</th>\n",
       "      <td>https://stackexchange.com/sites#culturerecreation</td>\n",
       "    </tr>\n",
       "    <tr>\n",
       "      <th>717</th>\n",
       "      <td>https://mathoverflow.net</td>\n",
       "    </tr>\n",
       "    <tr>\n",
       "      <th>718</th>\n",
       "      <td>https://math.stackexchange.com</td>\n",
       "    </tr>\n",
       "    <tr>\n",
       "      <th>719</th>\n",
       "      <td>https://stats.stackexchange.com</td>\n",
       "    </tr>\n",
       "    <tr>\n",
       "      <th>720</th>\n",
       "      <td>https://cstheory.stackexchange.com</td>\n",
       "    </tr>\n",
       "    <tr>\n",
       "      <th>721</th>\n",
       "      <td>https://physics.stackexchange.com</td>\n",
       "    </tr>\n",
       "    <tr>\n",
       "      <th>722</th>\n",
       "      <td>https://chemistry.stackexchange.com</td>\n",
       "    </tr>\n",
       "    <tr>\n",
       "      <th>723</th>\n",
       "      <td>https://biology.stackexchange.com</td>\n",
       "    </tr>\n",
       "    <tr>\n",
       "      <th>724</th>\n",
       "      <td>https://cs.stackexchange.com</td>\n",
       "    </tr>\n",
       "    <tr>\n",
       "      <th>725</th>\n",
       "      <td>https://philosophy.stackexchange.com</td>\n",
       "    </tr>\n",
       "    <tr>\n",
       "      <th>726</th>\n",
       "      <td>https://stackexchange.com/sites#science</td>\n",
       "    </tr>\n",
       "    <tr>\n",
       "      <th>727</th>\n",
       "      <td>https://meta.stackexchange.com</td>\n",
       "    </tr>\n",
       "    <tr>\n",
       "      <th>728</th>\n",
       "      <td>https://stackapps.com</td>\n",
       "    </tr>\n",
       "    <tr>\n",
       "      <th>729</th>\n",
       "      <td>https://api.stackexchange.com</td>\n",
       "    </tr>\n",
       "    <tr>\n",
       "      <th>730</th>\n",
       "      <td>https://data.stackexchange.com</td>\n",
       "    </tr>\n",
       "    <tr>\n",
       "      <th>731</th>\n",
       "      <td>https://area51.stackexchange.com</td>\n",
       "    </tr>\n",
       "    <tr>\n",
       "      <th>732</th>\n",
       "      <td>https://stackoverflow.blog?blb=1</td>\n",
       "    </tr>\n",
       "    <tr>\n",
       "      <th>733</th>\n",
       "      <td>https://www.facebook.com/officialstackoverflow/</td>\n",
       "    </tr>\n",
       "    <tr>\n",
       "      <th>734</th>\n",
       "      <td>https://twitter.com/stackoverflow</td>\n",
       "    </tr>\n",
       "    <tr>\n",
       "      <th>735</th>\n",
       "      <td>https://linkedin.com/company/stack-overflow</td>\n",
       "    </tr>\n",
       "    <tr>\n",
       "      <th>736</th>\n",
       "      <td>https://creativecommons.org/licenses/by-sa/3.0/</td>\n",
       "    </tr>\n",
       "    <tr>\n",
       "      <th>737</th>\n",
       "      <td>https://stackoverflow.blog/2009/06/25/attribut...</td>\n",
       "    </tr>\n",
       "  </tbody>\n",
       "</table>\n",
       "<p>738 rows × 1 columns</p>\n",
       "</div>"
      ],
      "text/plain": [
       "                                                 links\n",
       "0                            https://stackoverflow.com\n",
       "1                                           /questions\n",
       "2                       /jobs?med=site-ui&ref=jobs-tab\n",
       "3                                                /tags\n",
       "4                                               /users\n",
       "5                            https://stackoverflow.com\n",
       "6                       https://stackoverflow.com/help\n",
       "7                       https://chat.stackoverflow.com\n",
       "8                            https://stackoverflow.com\n",
       "9                       https://meta.stackoverflow.com\n",
       "10   https://stackoverflow.com/users/signup?ssrc=si...\n",
       "11   https://stackoverflow.com/users/login?ssrc=sit...\n",
       "12                     https://stackexchange.com/sites\n",
       "13                          https://stackoverflow.blog\n",
       "14                                               /tour\n",
       "15                                               /help\n",
       "16                      https://meta.stackoverflow.com\n",
       "17             https://stackoverflow.com/company/about\n",
       "18   https://www.stackoverflowbusiness.com/?ref=top...\n",
       "19          https://stackexchange.com/users/?tab=inbox\n",
       "20     https://stackexchange.com/users/?tab=reputation\n",
       "21                                                   #\n",
       "22                           https://stackexchange.com\n",
       "23   https://stackoverflow.com/users/login?ssrc=hea...\n",
       "24   https://stackoverflow.com/users/signup?ssrc=he...\n",
       "25      https://stackexchange.com/legal/privacy-policy\n",
       "26    https://stackexchange.com/legal/terms-of-service\n",
       "27   https://www.stackoverflowbusiness.com/?utm_sou...\n",
       "28                                    ?tab=interesting\n",
       "29                                       ?tab=featured\n",
       "..                                                 ...\n",
       "708                      https://ell.stackexchange.com\n",
       "709                 https://japanese.stackexchange.com\n",
       "710                   https://gaming.stackexchange.com\n",
       "711                 https://bicycles.stackexchange.com\n",
       "712                      https://rpg.stackexchange.com\n",
       "713                    https://anime.stackexchange.com\n",
       "714                 https://puzzling.stackexchange.com\n",
       "715                https://mechanics.stackexchange.com\n",
       "716  https://stackexchange.com/sites#culturerecreation\n",
       "717                           https://mathoverflow.net\n",
       "718                     https://math.stackexchange.com\n",
       "719                    https://stats.stackexchange.com\n",
       "720                 https://cstheory.stackexchange.com\n",
       "721                  https://physics.stackexchange.com\n",
       "722                https://chemistry.stackexchange.com\n",
       "723                  https://biology.stackexchange.com\n",
       "724                       https://cs.stackexchange.com\n",
       "725               https://philosophy.stackexchange.com\n",
       "726            https://stackexchange.com/sites#science\n",
       "727                     https://meta.stackexchange.com\n",
       "728                              https://stackapps.com\n",
       "729                      https://api.stackexchange.com\n",
       "730                     https://data.stackexchange.com\n",
       "731                   https://area51.stackexchange.com\n",
       "732                   https://stackoverflow.blog?blb=1\n",
       "733    https://www.facebook.com/officialstackoverflow/\n",
       "734                  https://twitter.com/stackoverflow\n",
       "735        https://linkedin.com/company/stack-overflow\n",
       "736    https://creativecommons.org/licenses/by-sa/3.0/\n",
       "737  https://stackoverflow.blog/2009/06/25/attribut...\n",
       "\n",
       "[738 rows x 1 columns]"
      ]
     },
     "execution_count": 7,
     "metadata": {},
     "output_type": "execute_result"
    }
   ],
   "source": [
    "#covert into a excel like format\n",
    "df = pandas.DataFrame({'links':pagelinks})\n",
    "df.to_csv('stackoverflow_link.csv') #save\n",
    "df  #show"
   ]
  },
  {
   "cell_type": "code",
   "execution_count": null,
   "metadata": {
    "collapsed": true
   },
   "outputs": [],
   "source": []
  },
  {
   "cell_type": "code",
   "execution_count": null,
   "metadata": {
    "collapsed": true
   },
   "outputs": [],
   "source": []
  },
  {
   "cell_type": "code",
   "execution_count": null,
   "metadata": {
    "collapsed": true
   },
   "outputs": [],
   "source": []
  }
 ],
 "metadata": {
  "anaconda-cloud": {},
  "kernelspec": {
   "display_name": "Python 3",
   "language": "python",
   "name": "python3"
  },
  "language_info": {
   "codemirror_mode": {
    "name": "ipython",
    "version": 3
   },
   "file_extension": ".py",
   "mimetype": "text/x-python",
   "name": "python",
   "nbconvert_exporter": "python",
   "pygments_lexer": "ipython3",
   "version": "3.6.3"
  },
  "nbpresent": {
   "slides": {
    "10c3da02-ef62-4de8-94e2-b3d3a008bf11": {
     "id": "10c3da02-ef62-4de8-94e2-b3d3a008bf11",
     "prev": "15e33f17-081a-478d-88d6-68b6c0760662",
     "regions": {
      "c16226d9-1b01-4c50-8c49-4852fd6b664a": {
       "attrs": {
        "height": 0.8,
        "width": 0.45,
        "x": 0.5,
        "y": 0.1
       },
       "id": "c16226d9-1b01-4c50-8c49-4852fd6b664a"
      },
      "f73af89b-f925-41b7-9382-8b5aa26b1bf8": {
       "attrs": {
        "height": 0.8,
        "width": 0.45,
        "x": 0.05,
        "y": 0.1
       },
       "content": {
        "cell": "4c61c0ac-4964-4209-94a3-b440cadc678c",
        "part": "source"
       },
       "id": "f73af89b-f925-41b7-9382-8b5aa26b1bf8"
      }
     }
    },
    "15e33f17-081a-478d-88d6-68b6c0760662": {
     "id": "15e33f17-081a-478d-88d6-68b6c0760662",
     "prev": "9d093009-08fc-49cd-a2e4-43e12bddc95e",
     "regions": {
      "6573bc98-dccd-4bdd-becf-2f1203facabb": {
       "attrs": {
        "height": 0.8,
        "width": 0.45,
        "x": 0.05,
        "y": 0.1
       },
       "content": {
        "cell": "4c61c0ac-4964-4209-94a3-b440cadc678c",
        "part": "source"
       },
       "id": "6573bc98-dccd-4bdd-becf-2f1203facabb"
      },
      "d346085a-7556-43da-883a-f12d63cf24d5": {
       "attrs": {
        "height": 0.8,
        "width": 0.45,
        "x": 0.5,
        "y": 0.1
       },
       "id": "d346085a-7556-43da-883a-f12d63cf24d5"
      }
     }
    },
    "84917102-4f99-43d8-bf2d-4eb7df2cb945": {
     "id": "84917102-4f99-43d8-bf2d-4eb7df2cb945",
     "prev": "10c3da02-ef62-4de8-94e2-b3d3a008bf11",
     "regions": {
      "42d62497-0c5c-4e09-94a3-cc923a1f125f": {
       "attrs": {
        "height": 0.8,
        "width": 0.45,
        "x": 0.05,
        "y": 0.1
       },
       "content": {
        "cell": "687cd494-2c58-4ce4-8101-6fa45ca4f459",
        "part": "source"
       },
       "id": "42d62497-0c5c-4e09-94a3-cc923a1f125f"
      },
      "cc0e8b29-ebc5-4627-88f6-35c29442cf4a": {
       "attrs": {
        "height": 0.8,
        "width": 0.45,
        "x": 0.5,
        "y": 0.1
       },
       "id": "cc0e8b29-ebc5-4627-88f6-35c29442cf4a"
      }
     }
    },
    "9d093009-08fc-49cd-a2e4-43e12bddc95e": {
     "id": "9d093009-08fc-49cd-a2e4-43e12bddc95e",
     "prev": "d0e154ba-c8c3-4e68-9ae6-a9b67aac03ef",
     "regions": {
      "6ac4faac-3e6d-4754-8bde-fbcc901f3037": {
       "attrs": {
        "height": 0.8,
        "width": 0.45,
        "x": 0.05,
        "y": 0.1
       },
       "id": "6ac4faac-3e6d-4754-8bde-fbcc901f3037"
      },
      "e25ecdb8-5ad9-4ddb-8e1d-8ff03c28d5ec": {
       "attrs": {
        "height": 0.8,
        "width": 0.45,
        "x": 0.5,
        "y": 0.1
       },
       "content": {
        "cell": "b18c6dd9-7636-49fb-9886-6bec743fc0b8",
        "part": "source"
       },
       "id": "e25ecdb8-5ad9-4ddb-8e1d-8ff03c28d5ec"
      }
     }
    },
    "d0e154ba-c8c3-4e68-9ae6-a9b67aac03ef": {
     "id": "d0e154ba-c8c3-4e68-9ae6-a9b67aac03ef",
     "prev": null,
     "regions": {
      "0517f6a6-95cc-4398-b43e-66134a99f591": {
       "attrs": {
        "height": 0.8,
        "width": 0.45,
        "x": 0.5,
        "y": 0.1
       },
       "content": {
        "cell": "8aa0481c-5b20-478a-926c-90c9e79a51a8",
        "part": "source"
       },
       "id": "0517f6a6-95cc-4398-b43e-66134a99f591"
      },
      "a47583ed-14b6-4c00-88f7-1cc50c9d70a0": {
       "attrs": {
        "height": 0.8,
        "width": 0.45,
        "x": 0.05,
        "y": 0.1
       },
       "id": "a47583ed-14b6-4c00-88f7-1cc50c9d70a0"
      }
     }
    },
    "f251eea7-2ba7-4d73-a545-135c4d2fc900": {
     "id": "f251eea7-2ba7-4d73-a545-135c4d2fc900",
     "prev": "ff709e7a-eabd-458b-a80d-300c2373e77c",
     "regions": {
      "04e9816f-761d-40fb-be21-a65a2b9e9c81": {
       "attrs": {
        "height": 0.8,
        "width": 0.45,
        "x": 0.05,
        "y": 0.1
       },
       "content": {
        "cell": "d6176451-d31e-4a7f-9509-e664004b6749",
        "part": "source"
       },
       "id": "04e9816f-761d-40fb-be21-a65a2b9e9c81"
      },
      "f231b402-c96b-44b9-ad61-fb07ca4cf43f": {
       "attrs": {
        "height": 0.8,
        "width": 0.45,
        "x": 0.5,
        "y": 0.1
       },
       "content": {
        "cell": "d6176451-d31e-4a7f-9509-e664004b6749",
        "part": "outputs"
       },
       "id": "f231b402-c96b-44b9-ad61-fb07ca4cf43f"
      }
     }
    },
    "ff709e7a-eabd-458b-a80d-300c2373e77c": {
     "id": "ff709e7a-eabd-458b-a80d-300c2373e77c",
     "prev": "84917102-4f99-43d8-bf2d-4eb7df2cb945",
     "regions": {
      "28c47d4e-5885-483a-9478-41250a5bc85b": {
       "attrs": {
        "height": 0.8,
        "width": 0.45,
        "x": 0.05,
        "y": 0.1
       },
       "content": {
        "cell": "90183560-f2eb-464b-9520-e5de1dab2c78",
        "part": "source"
       },
       "id": "28c47d4e-5885-483a-9478-41250a5bc85b"
      },
      "af5bda46-0eac-44f9-a554-61144c8d4ccd": {
       "attrs": {
        "height": 0.8,
        "width": 0.45,
        "x": 0.5,
        "y": 0.1
       },
       "content": {
        "cell": "90183560-f2eb-464b-9520-e5de1dab2c78",
        "part": "outputs"
       },
       "id": "af5bda46-0eac-44f9-a554-61144c8d4ccd"
      }
     }
    }
   },
   "themes": {
    "default": "0a2ebbf2-5e74-4b80-b852-8a2b139397d9",
    "theme": {}
   }
  }
 },
 "nbformat": 4,
 "nbformat_minor": 1
}
